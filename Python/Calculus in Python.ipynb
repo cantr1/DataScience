{
 "cells": [
  {
   "cell_type": "markdown",
   "id": "6acfcaca",
   "metadata": {},
   "source": [
    "# Calculus in Python"
   ]
  },
  {
   "cell_type": "markdown",
   "id": "798441bd",
   "metadata": {},
   "source": [
    "Calculus, a fundamental branch of mathematics, is the study of change and motion. It provides a powerful framework for understanding how quantities vary and interact with each other. The concept of calculus revolves around two key ideas: differentiation, which deals with the instantaneous rates of change and slopes of curves, and integration, which focuses on the accumulation of quantities and finding areas under curves. The roots of calculus can be traced back to ancient civilizations like Greece and Egypt, where scholars pondered geometric problems related to motion and change. However, it was in the 17th century that the foundations of modern calculus were established independently by Isaac Newton and Gottfried Wilhelm Leibniz. Their innovative ideas marked the birth of this mathematical discipline and have since become essential tools in fields ranging from physics and engineering to economics and biology."
   ]
  },
  {
   "cell_type": "markdown",
   "id": "a34a7080",
   "metadata": {},
   "source": [
    "In this project, I will be utilizing the Sympy library to work with the fundamental concepts of calculus. Understanding calculus is immensely useful in the field of data science as it provides a robust framework for analyzing and modeling complex relationships within data. Calculus enables data scientists to grasp the intricate dynamics of changing variables and to quantify rates of change, critical for predicting trends and making informed decisions. Differentiation aids in finding optimal points, such as minimizing error or maximizing efficiency, while integration is pivotal for aggregating data and estimating cumulative quantities. Many machine learning algorithms, like gradient descent used in optimization, rely on calculus principles to fine-tune models. Moreover, concepts like derivatives and integrals are integral to probability theory and statistics, essential components of data analysis. By wielding calculus, data scientists can extract deeper insights from data, devise more accurate predictive models, and ultimately uncover patterns and trends that drive innovation across various industries. "
   ]
  },
  {
   "cell_type": "code",
   "execution_count": 4,
   "id": "bb4fb45d",
   "metadata": {},
   "outputs": [],
   "source": [
    "# Import Library \n",
    "import sympy as smp\n",
    "from sympy import *"
   ]
  },
  {
   "cell_type": "code",
   "execution_count": 5,
   "id": "8ce596dc",
   "metadata": {},
   "outputs": [],
   "source": [
    "# Create Symbolic Variables \n",
    "# This is critical to use this library\n",
    "x, y = smp.symbols('x y')"
   ]
  },
  {
   "cell_type": "markdown",
   "id": "57f99c2a",
   "metadata": {},
   "source": [
    "## Limits"
   ]
  },
  {
   "cell_type": "markdown",
   "id": "3e5c07da",
   "metadata": {},
   "source": [
    "In calculus, the concept of limits is fundamental to understanding how functions behave as their input values approach a specific point. A limit represents the value that a function approaches as its input (usually denoted as \"x\") gets closer and closer to a particular value or \"limit point\" without actually reaching it. Limits enable us to explore the behavior of functions near specific points, even if the function is not defined at that exact point. They provide a way to analyze continuity, differentiability, and other essential characteristics of functions, forming the basis for more advanced calculus concepts like derivatives and integrals."
   ]
  },
  {
   "cell_type": "markdown",
   "id": "9c65a19e",
   "metadata": {},
   "source": [
    "Understanding limits is invaluable in the realm of data science as it enables practitioners to grasp the behavior of functions and processes even when exact values are elusive. In data analysis, limits assist in comprehending how data trends behave as they approach certain conditions or boundaries. This knowledge aids in identifying outliers, assessing model stability, and making informed decisions based on the behavior of data-driven systems. Furthermore, limits form the foundation for concepts like continuity, which is crucial in ensuring smooth transitions between data points. By leveraging limits, data scientists can enhance their ability to analyze intricate datasets, develop accurate models, and extract meaningful insights, ultimately contributing to more robust and reliable data-driven solutions."
   ]
  },
  {
   "cell_type": "markdown",
   "id": "c7e1de4b",
   "metadata": {},
   "source": [
    "$$\n",
    "\\lim_{{x \\to \\pi}} \\sin\\left(\\frac{x}{2} + \\sin(x)\\right)\n",
    "$$"
   ]
  },
  {
   "cell_type": "code",
   "execution_count": 9,
   "id": "9eb6a144",
   "metadata": {},
   "outputs": [
    {
     "data": {
      "text/latex": [
       "$\\displaystyle \\left( \\sin{\\left(\\frac{x}{2} + \\sin{\\left(x \\right)} \\right)}, \\  x, \\  \\pi\\right)$"
      ],
      "text/plain": [
       "⎛   ⎛x         ⎞      ⎞\n",
       "⎜sin⎜─ + sin(x)⎟, x, π⎟\n",
       "⎝   ⎝2         ⎠      ⎠"
      ]
     },
     "execution_count": 9,
     "metadata": {},
     "output_type": "execute_result"
    }
   ],
   "source": [
    "# Format the expression in Sympy\n",
    "(smp.sin(x/2 + smp.sin(x)), x, smp.pi)"
   ]
  },
  {
   "cell_type": "code",
   "execution_count": 10,
   "id": "0d3c4cf8",
   "metadata": {},
   "outputs": [
    {
     "data": {
      "text/latex": [
       "$\\displaystyle 1$"
      ],
      "text/plain": [
       "1"
      ]
     },
     "execution_count": 10,
     "metadata": {},
     "output_type": "execute_result"
    }
   ],
   "source": [
    "# Solve for the limit\n",
    "smp.limit(smp.sin(x/2 + smp.sin(x)), x, smp.pi)"
   ]
  },
  {
   "cell_type": "markdown",
   "id": "57908e8f",
   "metadata": {},
   "source": [
    "$$ \n",
    "\\lim_{{x \\to 0^+}} \\frac{2e^{{1/x}}}{e^{{1/x}} + 1} \n",
    "$$"
   ]
  },
  {
   "cell_type": "code",
   "execution_count": 13,
   "id": "1a1a7634",
   "metadata": {},
   "outputs": [
    {
     "data": {
      "text/latex": [
       "$\\displaystyle \\frac{2 e^{\\frac{1}{x}}}{e^{\\frac{1}{x}} + 1}$"
      ],
      "text/plain": [
       "    1 \n",
       "    ─ \n",
       "    x \n",
       " 2⋅ℯ  \n",
       "──────\n",
       " 1    \n",
       " ─    \n",
       " x    \n",
       "ℯ  + 1"
      ]
     },
     "execution_count": 13,
     "metadata": {},
     "output_type": "execute_result"
    }
   ],
   "source": [
    "# Format expression\n",
    "2*smp.exp(1/x) / (smp.exp(1/x) + 1)"
   ]
  },
  {
   "cell_type": "code",
   "execution_count": 15,
   "id": "4994b683",
   "metadata": {},
   "outputs": [
    {
     "data": {
      "text/latex": [
       "$\\displaystyle 2$"
      ],
      "text/plain": [
       "2"
      ]
     },
     "execution_count": 15,
     "metadata": {},
     "output_type": "execute_result"
    }
   ],
   "source": [
    "# Solve limit\n",
    "smp.limit(2*smp.exp(1/x) / (smp.exp(1/x) + 1), x, 0, dir='+')"
   ]
  },
  {
   "cell_type": "markdown",
   "id": "312de4d7",
   "metadata": {},
   "source": [
    "$$ \n",
    "\\lim_{{x \\to \\infty}} \\frac{\\cos(x) - 1}{x} \n",
    "$$"
   ]
  },
  {
   "cell_type": "code",
   "execution_count": 16,
   "id": "466f0700",
   "metadata": {},
   "outputs": [
    {
     "data": {
      "text/latex": [
       "$\\displaystyle \\frac{\\cos{\\left(x \\right)} - 1}{x}$"
      ],
      "text/plain": [
       "cos(x) - 1\n",
       "──────────\n",
       "    x     "
      ]
     },
     "execution_count": 16,
     "metadata": {},
     "output_type": "execute_result"
    }
   ],
   "source": [
    "# Format expression\n",
    "(smp.cos(x) - 1) / x"
   ]
  },
  {
   "cell_type": "code",
   "execution_count": 18,
   "id": "2ea74b43",
   "metadata": {},
   "outputs": [
    {
     "data": {
      "text/latex": [
       "$\\displaystyle 0$"
      ],
      "text/plain": [
       "0"
      ]
     },
     "execution_count": 18,
     "metadata": {},
     "output_type": "execute_result"
    }
   ],
   "source": [
    "# Solve limit\n",
    "smp.limit((smp.cos(x) - 1) / x, x, smp.oo)"
   ]
  },
  {
   "cell_type": "markdown",
   "id": "892525ca",
   "metadata": {},
   "source": [
    "## Derivatives"
   ]
  },
  {
   "cell_type": "markdown",
   "id": "deed8531",
   "metadata": {},
   "source": [
    "Derivatives are a central concept in calculus that provide a precise way to understand how a function changes as its input value changes. In essence, a derivative measures the rate of change or the slope of a function at a specific point. It answers questions like \"How does the output of a function change when the input changes a little bit?\" The derivative of a function f(x) at a given point x₀ is denoted as f'(x₀) or dy/dx|x=x₀, and it represents the instantaneous rate of change of the function at that point. Graphically, the derivative gives us the slope of the tangent line to the function's curve at the chosen point. Derivatives play a pivotal role in various fields, including physics, engineering, economics, and optimization, as they help us analyze and model dynamic processes, find extrema, and understand the behavior of complex systems."
   ]
  },
  {
   "cell_type": "markdown",
   "id": "f92e31e8",
   "metadata": {},
   "source": [
    "A profound grasp of derivatives holds significant advantages in the realm of data science. Derivatives provide a nuanced understanding of how data changes over small intervals, which is essential for analyzing trends and patterns in datasets. In machine learning, derivatives underpin gradient-based optimization techniques, enabling algorithms to fine-tune models for better performance. Derivatives aid in identifying critical points, such as minima and maxima, facilitating the optimization of complex systems. Moreover, derivatives enable the interpretation of data rates, guiding decisions by quantifying how small changes in input variables impact outputs. By harnessing derivatives, data scientists can develop more efficient algorithms, create accurate predictive models, and uncover deeper insights from intricate data, ultimately driving innovation across various industries."
   ]
  },
  {
   "cell_type": "markdown",
   "id": "4b8719cd",
   "metadata": {},
   "source": [
    "$$ \n",
    "\\frac{d}{dx} \\left( \\frac{1 + \\sin x}{1 - \\cos x} \\right)^2 \n",
    "$$"
   ]
  },
  {
   "cell_type": "code",
   "execution_count": 6,
   "id": "4e80096f",
   "metadata": {},
   "outputs": [
    {
     "data": {
      "text/latex": [
       "$\\displaystyle \\frac{\\left(\\sin{\\left(x \\right)} + 1\\right)^{2}}{\\left(1 - \\cos{\\left(x \\right)}\\right)^{2}}$"
      ],
      "text/plain": [
       "(sin(x) + 1)**2/(1 - cos(x))**2"
      ]
     },
     "execution_count": 6,
     "metadata": {},
     "output_type": "execute_result"
    }
   ],
   "source": [
    "# Format expression\n",
    "((1 + smp.sin(x)) / (1 - smp.cos(x)))**2"
   ]
  },
  {
   "cell_type": "code",
   "execution_count": 8,
   "id": "fb5373e7",
   "metadata": {},
   "outputs": [
    {
     "data": {
      "text/latex": [
       "$\\displaystyle \\frac{2 \\left(\\sin{\\left(x \\right)} + 1\\right) \\cos{\\left(x \\right)}}{\\left(1 - \\cos{\\left(x \\right)}\\right)^{2}} - \\frac{2 \\left(\\sin{\\left(x \\right)} + 1\\right)^{2} \\sin{\\left(x \\right)}}{\\left(1 - \\cos{\\left(x \\right)}\\right)^{3}}$"
      ],
      "text/plain": [
       "2*(sin(x) + 1)*cos(x)/(1 - cos(x))**2 - 2*(sin(x) + 1)**2*sin(x)/(1 - cos(x))**3"
      ]
     },
     "execution_count": 8,
     "metadata": {},
     "output_type": "execute_result"
    }
   ],
   "source": [
    "# Solve derivative\n",
    "smp.diff(((1 + smp.sin(x)) / (1 - smp.cos(x)))**2, x)"
   ]
  },
  {
   "cell_type": "markdown",
   "id": "b9365878",
   "metadata": {},
   "source": [
    "$$ \n",
    "\\frac{d}{dx} (\\log_5 (x))^{x/2} \n",
    "$$"
   ]
  },
  {
   "cell_type": "code",
   "execution_count": 14,
   "id": "1e86750c",
   "metadata": {},
   "outputs": [
    {
     "data": {
      "text/latex": [
       "$\\displaystyle \\left(\\frac{\\log{\\left(x \\right)}}{\\log{\\left(5 \\right)}}\\right)^{\\frac{x}{2}}$"
      ],
      "text/plain": [
       "(log(x)/log(5))**(x/2)"
      ]
     },
     "execution_count": 14,
     "metadata": {},
     "output_type": "execute_result"
    }
   ],
   "source": [
    "# Format expression\n",
    "smp.log(x, 5)**(x/2)"
   ]
  },
  {
   "cell_type": "code",
   "execution_count": 15,
   "id": "7403e34f",
   "metadata": {},
   "outputs": [
    {
     "data": {
      "text/latex": [
       "$\\displaystyle \\left(\\frac{\\log{\\left(x \\right)}}{\\log{\\left(5 \\right)}}\\right)^{\\frac{x}{2}} \\left(\\frac{\\log{\\left(\\frac{\\log{\\left(x \\right)}}{\\log{\\left(5 \\right)}} \\right)}}{2} + \\frac{1}{2 \\log{\\left(x \\right)}}\\right)$"
      ],
      "text/plain": [
       "(log(x)/log(5))**(x/2)*(log(log(x)/log(5))/2 + 1/(2*log(x)))"
      ]
     },
     "execution_count": 15,
     "metadata": {},
     "output_type": "execute_result"
    }
   ],
   "source": [
    "# Solve derivative\n",
    "smp.diff(smp.log(x, 5)**(x/2))"
   ]
  },
  {
   "cell_type": "markdown",
   "id": "7e8d5a6a",
   "metadata": {},
   "source": [
    "In this project, we delved into the fundamental concepts of calculus and their applications in data science. We explored the significance of understanding limits, which allow us to analyze data trends and model complex systems. Limits offer insights into data behavior near critical points and boundaries, aiding in outlier detection and decision-making. Equally important is our exploration of derivatives, which provide a deeper understanding of data's rate of change and underpin optimization techniques in machine learning. Derivatives help identify optimal points, quantify data rates, and drive accurate predictions. By embracing these mathematical principles, we've gained essential tools to elevate our data analysis capabilities and develop innovative solutions. The seamless interplay between calculus and data science showcased here underscores their symbiotic relationship, demonstrating how a strong foundation in mathematics enriches our ability to extract meaningful insights from complex datasets."
   ]
  }
 ],
 "metadata": {
  "kernelspec": {
   "display_name": "Python 3 (ipykernel)",
   "language": "python",
   "name": "python3"
  },
  "language_info": {
   "codemirror_mode": {
    "name": "ipython",
    "version": 3
   },
   "file_extension": ".py",
   "mimetype": "text/x-python",
   "name": "python",
   "nbconvert_exporter": "python",
   "pygments_lexer": "ipython3",
   "version": "3.11.4"
  }
 },
 "nbformat": 4,
 "nbformat_minor": 5
}
